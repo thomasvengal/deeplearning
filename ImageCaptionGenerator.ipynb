{
 "cells": [
  {
   "cell_type": "markdown",
   "metadata": {
    "colab_type": "text",
    "id": "l7QLdo0bGi6e"
   },
   "source": [
    "# Develop an image caption generator model using Tensorflow-keras\n",
    "\n",
    "In this notebook, we will have to train a caption generator model for images. It requires a CNN model to extract the content of images and an RNN model to learn the corresponding captions of the images. These two features are finally merged and trained using dense layers.\n",
    "\n",
    "The below research papers are for your reference-\n",
    "1. [Where to put the Image in an Image Caption Generator](https://arxiv.org/abs/1703.09137)\n",
    "2. [Framing Image Description as a Ranking Task: Data, Models and Evaluation Metrics](https://www.ijcai.org/Proceedings/15/Papers/593.pdf) \n",
    "\n",
    "This notebook is divided into six parts. =\n",
    "\n",
    "1. Download photo and caption dataset\n",
    "2. Prepare photo data \n",
    "3. Prepare text data \n",
    "4. Develop deep learning model with progressive data loading \n",
    "5. Evaluate model \n",
    "6. Generate new captions "
   ]
  },
  {
   "cell_type": "markdown",
   "metadata": {
    "colab_type": "text",
    "id": "pbJjJ1-8JPT3"
   },
   "source": [
    "# 1. Download photo and caption dataset"
   ]
  },
  {
   "cell_type": "code",
   "execution_count": null,
   "metadata": {
    "colab": {
     "base_uri": "https://localhost:8080/",
     "height": 122
    },
    "colab_type": "code",
    "id": "HqE4b1T7tT_n",
    "outputId": "a4f178f3-0a80-4cd7-f65b-23db7555603e"
   },
   "outputs": [
    {
     "name": "stdout",
     "output_type": "stream",
     "text": [
      "Go to this URL in a browser: https://accounts.google.com/o/oauth2/auth?client_id=947318989803-6bn6qk8qdgf4n4g3pfee6491hc0brc4i.apps.googleusercontent.com&redirect_uri=urn%3aietf%3awg%3aoauth%3a2.0%3aoob&response_type=code&scope=email%20https%3a%2f%2fwww.googleapis.com%2fauth%2fdocs.test%20https%3a%2f%2fwww.googleapis.com%2fauth%2fdrive%20https%3a%2f%2fwww.googleapis.com%2fauth%2fdrive.photos.readonly%20https%3a%2f%2fwww.googleapis.com%2fauth%2fpeopleapi.readonly\n",
      "\n",
      "Enter your authorization code:\n",
      "··········\n",
      "Mounted at /content/gdrive\n"
     ]
    }
   ],
   "source": [
    "#Downloaded to Google Drive and unzipped\n",
    "#mapping Google Drive to Colab\n",
    "from google.colab import drive\n",
    "drive.mount('/content/gdrive') "
   ]
  },
  {
   "cell_type": "code",
   "execution_count": null,
   "metadata": {
    "colab": {
     "base_uri": "https://localhost:8080/",
     "height": 34
    },
    "colab_type": "code",
    "id": "zqFirZnEQcBG",
    "outputId": "63d47578-6c73-4ab8-846c-a697bfb70b34"
   },
   "outputs": [
    {
     "name": "stdout",
     "output_type": "stream",
     "text": [
      "/content\n"
     ]
    }
   ],
   "source": [
    "!pwd"
   ]
  },
  {
   "cell_type": "code",
   "execution_count": null,
   "metadata": {
    "colab": {
     "base_uri": "https://localhost:8080/",
     "height": 394
    },
    "colab_type": "code",
    "id": "hS0c6SmPo0cP",
    "outputId": "c4209b83-94f8-4b32-ae35-785c0efe1f15"
   },
   "outputs": [
    {
     "data": {
      "image/jpeg": "[encoded data removed]",
      "text/plain": [
       "<IPython.core.display.Image object>"
      ]
     },
     "execution_count": 4,
     "metadata": {
      "tags": []
     },
     "output_type": "execute_result"
    }
   ],
   "source": [
    "\n",
    "from IPython.display import Image\n",
    "Image(filename=\"gdrive/My Drive/Model-Generate-Word-From-Word.jpg\")\n"
   ]
  },
  {
   "cell_type": "markdown",
   "metadata": {
    "colab_type": "text",
    "id": "Fg14a8DLWy5R"
   },
   "source": [
    "# 2. Prepare photo data "
   ]
  },
  {
   "cell_type": "code",
   "execution_count": 1,
   "metadata": {
    "colab": {
     "base_uri": "https://localhost:8080/",
     "height": 34
    },
    "colab_type": "code",
    "id": "qEHWuRuU2hzs",
    "outputId": "4095b8d1-d50c-47b7-b209-d6e2c465fc0a"
   },
   "outputs": [],
   "source": [
    "from os import listdir\n",
    "from pickle import dump\n",
    "#from tensorflow.keras import layers\n",
    "#from tensorflow import keras \n",
    "#import tensorflow as tf\n",
    "\n",
    "# You need to import the following functions from tensorflow.keras library\n",
    "# VGG16, load_img, img_to_array, preprocess_input, Model\n",
    "\n",
    "from tensorflow.python.keras.applications.vgg16 import VGG16\n",
    "from tensorflow.python.keras.preprocessing.image import load_img\n",
    "from tensorflow.python.keras.preprocessing.image import img_to_array\n",
    "from tensorflow.python.keras.applications.vgg16 import preprocess_input\n",
    "from tensorflow.python.keras.models import Model\n",
    "from tensorflow.python.keras.layers import Input\n"
   ]
  },
  {
   "cell_type": "code",
   "execution_count": 2,
   "metadata": {
    "colab": {
     "base_uri": "https://localhost:8080/",
     "height": 1000
    },
    "colab_type": "code",
    "id": "y0QtCEOLvNrG",
    "outputId": "191901f0-e832-49a0-b222-4e6783db806d"
   },
   "outputs": [],
   "source": [
    "# function to extract features from each photo in the directory\n",
    "def extract_features(directory):\n",
    "\t# load the VGG16 model\n",
    "\tmodel = VGG16()\n",
    "  # Print the model summary to understand the model\n",
    "\tprint(model.summary())\n",
    "\n",
    "\t# re-structure the model by removing the last layer\n",
    "\t#####\n",
    "\tmodel._layers.pop()\n",
    "\tmodel = Model(inputs=model.inputs, outputs=model.layers[-1].output)\n",
    "\n",
    "\t# summarize\n",
    "\tprint(model.summary())\n",
    "  \n",
    "\t# extract features from each photo in a dictionary\n",
    "\tfeatures = dict()\n",
    "  \n",
    "\t# iterate over all the files of the dataset directory\n",
    "\tfor name in listdir(directory):\n",
    "\t\t\n",
    "\t\tfilename = directory + '/' + name\n",
    "\t\t# load the image from filename with target size of (224,224)\n",
    "\t\timage = load_img(filename, target_size=(224, 224))\n",
    "    \n",
    "\t\t# convert the image pixels to a numpy array\n",
    "\t\timage = img_to_array(image)\n",
    "\n",
    "\t\t# reshape data for the model\n",
    "\t\timage = image.reshape((1, image.shape[0], image.shape[1], image.shape[2]))\n",
    "\n",
    "\t\t# preprocess the image for the VGG model\t\n",
    "\t\timage = preprocess_input(image)\n",
    "    \n",
    "\t\t# get features (output of the model for the image)\n",
    "\t\tfeature = model.predict(image, verbose=0)\n",
    "\n",
    "\t\t# get image id\n",
    "\t\timage_id = name.split('.')[0]\n",
    "\t\t\n",
    "\t\t# store feature in the features dictionary with image_id as key and feature as value\n",
    "\t\tfeatures[image_id] = feature\n",
    "\n",
    "\treturn features\n",
    "\n",
    "# extract features from all images\n",
    "directory = \"gdrive/My Drive/Flicker8k_Dataset\"\n",
    "!ls directory\n",
    "features = extract_features(directory)\n",
    "print('Extracted Features: %d' % len(features))\n",
    "# save to file\n",
    "dump(features, open(\"gdrive/My Drive/features.pkl\", 'wb'))"
   ]
  },
  {
   "cell_type": "markdown",
   "metadata": {
    "colab_type": "text",
    "id": "-6rdm78YXRYu"
   },
   "source": [
    "# 3. Prepare Text Data"
   ]
  },
  {
   "cell_type": "code",
   "execution_count": 3,
   "metadata": {
    "colab": {},
    "colab_type": "code",
    "id": "aWOtlIk1XoBf"
   },
   "outputs": [],
   "source": [
    "import string\n",
    "\n",
    "# load doc into memory\n",
    "def load_doc(filename):\n",
    "\t# open the file as read only\n",
    "    file = open(filename,'r')\n",
    "\t# read all text\n",
    "    text = file.read()\n",
    "\t# close the file\n",
    "    file.close()\n",
    "    return text"
   ]
  },
  {
   "cell_type": "code",
   "execution_count": 4,
   "metadata": {
    "colab": {},
    "colab_type": "code",
    "id": "f2YarQzbOc6O"
   },
   "outputs": [],
   "source": [
    "# extract descriptions for images\n",
    "def load_descriptions(doc):\n",
    "    mapping = dict()\n",
    "\t# process lines\n",
    "    for line in doc.split('\\n'):\n",
    "\t\t# split line by white space\n",
    "        tokens = line.split()\n",
    "        if len(line) < 2:\n",
    "            continue\n",
    "\t\t# take the first token as the image id, the rest as the description\n",
    "        image_id, image_desc = tokens[0], tokens[1:]\n",
    "\n",
    "\t\t# remove filename from image id\n",
    "        image_id = image_id.split('.')[0]\n",
    "\n",
    "\t\t# convert description tokens back to string\n",
    "        image_desc = ' '.join(image_desc)\n",
    "\t\n",
    "\t\t# create the list if neededab\n",
    "        if image_id not in mapping:\n",
    "            mapping[image_id] = list()\n",
    "\t \n",
    "\t\t# store description\n",
    "        mapping[image_id].append(image_desc)\n",
    "    return mapping"
   ]
  },
  {
   "cell_type": "code",
   "execution_count": 5,
   "metadata": {
    "colab": {},
    "colab_type": "code",
    "id": "ZrGJR_ebOgGX"
   },
   "outputs": [],
   "source": [
    "# We will clean the text in the following ways in order to reduce the size of the vocabulary of words we will need to work with:\n",
    "\n",
    "# 1. Convert all words to lowercase.\n",
    "# 2. Remove all punctuation.\n",
    "# 3. Remove all words that are one character or less in length (e.g. ‘a’).\n",
    "# 4. Remove all words with numbers in them.\n",
    "\n",
    "def clean_descriptions(descriptions):\n",
    "\t\n",
    "\t# prepare translation table for removing punctuation\n",
    "    table = str.maketrans('', '', string.punctuation)\n",
    "    for key, desc_list in descriptions.items():\n",
    "        for i in range(len(desc_list)):\n",
    "            desc = desc_list[i]\n",
    "\n",
    "\t\t\t# tokenize desc using split \n",
    "            desc = desc.split()\n",
    "\n",
    "\t\t\t# convert all the words in desc to lower case\n",
    "            desc = [word.lower() for word in desc]\n",
    "\n",
    "\t\t\t# remove punctuation from each token using translate function \n",
    "\t\t\t# pass the \"table\" variable to this function\n",
    "            desc = [w.translate(table) for w in desc]\n",
    "\n",
    "\t\t\t# remove hanging 's' and 'a'\n",
    "            desc = [word for word in desc if len(word)>1]\n",
    "\n",
    "\t\t\t# remove tokens with numbers in them using isalpha\n",
    "            desc = [word for word in desc if word.isalpha()]\n",
    "\t\t\t# store as string\n",
    "            desc_list[i] =  ' '.join(desc)"
   ]
  },
  {
   "cell_type": "code",
   "execution_count": 6,
   "metadata": {
    "colab": {},
    "colab_type": "code",
    "id": "PGHICk7kOhj3"
   },
   "outputs": [],
   "source": [
    "# convert the loaded descriptions into a vocabulary of words\n",
    "def to_vocabulary(descriptions):\n",
    "\n",
    "\t# build a list of all description strings\n",
    "    all_desc = set()\n",
    "    for key in descriptions.keys():\n",
    "        [all_desc.update(d.split()) for d in descriptions[key]]\n",
    "    return all_desc"
   ]
  },
  {
   "cell_type": "code",
   "execution_count": 7,
   "metadata": {
    "colab": {},
    "colab_type": "code",
    "id": "E9wechduOjtI"
   },
   "outputs": [],
   "source": [
    "# save descriptions to file, one per line\n",
    "def save_descriptions(descriptions, filename):\n",
    "    lines = list()\n",
    "    for key, desc_list in descriptions.items():\n",
    "        for desc in desc_list:\n",
    "            lines.append(key + ' ' + desc)\n",
    "    data = '\\n'.join(lines)\n",
    "    file = open(filename, 'w')\n",
    "    file.write(data)\n",
    "    file.close()"
   ]
  },
  {
   "cell_type": "code",
   "execution_count": 8,
   "metadata": {
    "colab": {},
    "colab_type": "code",
    "id": "AtcUFdYdIHhn"
   },
   "outputs": [
    {
     "name": "stdout",
     "output_type": "stream",
     "text": [
      "Loaded: 8092 \n",
      "Vocabulary Size: 8763\n"
     ]
    }
   ],
   "source": [
    "# Use the above functions in the code below-\n",
    "\n",
    "filename = \"gdrive/My Drive/Flickr8k_text/Flickr8k.token.txt\"\n",
    "\n",
    "# load descriptions (pass the filename)\n",
    "doc = load_doc(filename)\n",
    "\n",
    "# parse descriptions (pass doc)\n",
    "descriptions = load_descriptions(doc)\n",
    "print('Loaded: %d ' % len(descriptions))\n",
    "\n",
    "# clean the descriptions\n",
    "#####\n",
    "clean_descriptions(descriptions)\n",
    "\n",
    "# summarize descriptions to a vocabulary of words\n",
    " \n",
    "# summarize vocabulary\n",
    "vocabulary = to_vocabulary(descriptions)\n",
    "print('Vocabulary Size: %d' % len(vocabulary))\n",
    "\n",
    "# save to file\n",
    "save_descriptions(descriptions, 'descriptions.txt')\n",
    "\n",
    "# You should get the following output for the above code"
   ]
  },
  {
   "cell_type": "markdown",
   "metadata": {
    "colab_type": "text",
    "id": "5yiaX-OokIII"
   },
   "source": [
    "# 4. Develop Deep Learning Model"
   ]
  },
  {
   "cell_type": "code",
   "execution_count": 9,
   "metadata": {
    "colab": {},
    "colab_type": "code",
    "id": "tobBuMgGgXjv"
   },
   "outputs": [],
   "source": [
    "from numpy import array\n",
    "from pickle import load\n",
    "\n",
    "# You need to import the following functions from tensorflow.keras library\n",
    "# Tokenizer, pad_sequences, to_categorical, plot_model, Model, Input, Dense, LSTM, Embedding, Dropout, add, ModelCheckpoint\n",
    "\n",
    "from tensorflow.keras.preprocessing.text import Tokenizer\n",
    "from tensorflow.keras.preprocessing.sequence import pad_sequences\n",
    "from tensorflow.keras.utils import to_categorical\n",
    "from tensorflow.keras.utils import plot_model\n",
    "from tensorflow.keras.models import Model\n",
    "from tensorflow.keras.layers import Input\n",
    "from tensorflow.keras.layers import Dense, BatchNormalization\n",
    "from tensorflow.keras.layers import LSTM\n",
    "from tensorflow.keras.layers import Embedding\n",
    "from tensorflow.keras.layers import Dropout\n",
    "from tensorflow.keras.layers import add\n",
    "from tensorflow.keras.callbacks import ModelCheckpoint"
   ]
  },
  {
   "cell_type": "code",
   "execution_count": 10,
   "metadata": {
    "colab": {},
    "colab_type": "code",
    "id": "0EUzfblmYQMI"
   },
   "outputs": [],
   "source": [
    "# load a pre-defined list of photo identifiers\n",
    "def load_set(filename):\n",
    "\t# load document filename using the function defined earlier\n",
    "\tdoc = load_doc(filename)\n",
    "\tdataset = list()\n",
    " \n",
    "\t# process doc line by line using split\n",
    "\tfor line in doc.split('\\n'):\n",
    "\t\t# skip empty lines\n",
    "\t\tif len(line) < 1:\n",
    "\t\t\tcontinue\n",
    "\t\t# get the image identifier\n",
    "\t\tidentifier = line.split('.')[0]\n",
    "\t\tdataset.append(identifier)\n",
    "\treturn set(dataset)\n",
    "\n",
    "# load clean descriptions into memory\n",
    "def load_clean_descriptions(filename, dataset):\n",
    "\t# load document filename using function defined earlier\n",
    "\tdoc = load_doc(filename)\n",
    "\tdescriptions = dict()\n",
    " \n",
    "  # process doc line by line using split\n",
    "\tfor line in doc.split('\\n'):\n",
    "\t\t# split line by white space\n",
    "\t\ttokens = line.split()\n",
    "\n",
    "\t\t# take the first token as the image id, the rest as the description\n",
    "\t\timage_id, image_desc = tokens[0], tokens[1:]\n",
    "\t\t\n",
    "\t\t# skip images not in the set\n",
    "\t\tif image_id in dataset:\n",
    "\t\t\t# create list\n",
    "\t\t\tif image_id not in descriptions:\n",
    "\t\t\t\tdescriptions[image_id] = list()\n",
    "\t\t\t# wrap description in tokens\n",
    "\t\t\tdesc = 'startseq ' + ' '.join(image_desc) + ' endseq'\n",
    "\t\t\t# store\n",
    "\t\t\tdescriptions[image_id].append(desc)\n",
    "\treturn descriptions\n",
    "\n",
    "# load photo features\n",
    "def load_photo_features(filename, dataset):\n",
    "\t# load all features from filename\n",
    "\tall_features = load(open(filename, 'rb'))\n",
    "\n",
    "\t# filter features\n",
    "\tfeatures = {k: all_features[k] for k in dataset}\n",
    "\treturn features\n",
    "\n",
    "# covert a dictionary of clean descriptions to a list of descriptions\n",
    "def to_lines(descriptions):\n",
    "\tall_desc = list()\n",
    "\tfor key in descriptions.keys():\n",
    "\t\t[all_desc.append(d) for d in descriptions[key]]\n",
    "\treturn all_desc\n",
    "\n",
    "# fit a tokenizer given caption descriptions\n",
    "def create_tokenizer(descriptions):\n",
    "\t# Convert the descriptions to lines\n",
    "    lines = to_lines(descriptions)\n",
    "  \n",
    "\t# Create a tokenizer object\n",
    "    tokenizer = Tokenizer()\n",
    "\n",
    "\t# fit the tokenizer using fit_on_texts on lines\n",
    "\t#####\n",
    "    tokenizer.fit_on_texts(lines)\n",
    "\n",
    "    return tokenizer\n",
    "\n",
    "# calculate the length of the description with the most words\n",
    "def mlength(descriptions):\n",
    "\t# Convert descriptions to lines\n",
    "\tlines = to_lines(descriptions)\n",
    "\treturn max(len(d.split()) for d in lines)"
   ]
  },
  {
   "cell_type": "code",
   "execution_count": 11,
   "metadata": {
    "colab": {},
    "colab_type": "code",
    "id": "zjIcyx_4gcES"
   },
   "outputs": [],
   "source": [
    "# REFERENCE CODE\n",
    "# X1,\t\t    X2 (text sequence), \t\t\t\t                 \t\ty (word)\n",
    "# photo\t    startseq, \t\t\t\t\t\t\t\t\t                    little\n",
    "# photo\t    startseq, little,\t\t\t\t\t\t                   \tgirl\n",
    "# photo\t    startseq, little, girl, \t\t\t              \t\trunning\n",
    "# photo\t    startseq, little, girl, running, \t\t          \tin\n",
    "# photo\t    startseq, little, girl, running, in, \t\t        field\n",
    "# photo\t    startseq, little, girl, running, in, field,     endseq\n",
    "\n",
    "# You need to create the sequences in abovee format for your data\n",
    "\n",
    "# create sequences of images, input sequences and output words for an image\n",
    "def create_sequences(tokenizer, max_length, desc_list, photo, vocab_size):\n",
    "    # Define as empty lists\n",
    "    X1, X2, y = list(), list(), list()\n",
    "\n",
    "\t# walk through each description for the image\n",
    "    for desc in desc_list:\n",
    "\t\t# encode the sequence using texts_to_sequences (consider first element)\n",
    "        seq = tokenizer.texts_to_sequences([desc])[0]\n",
    "\n",
    "\t\t# split one sequence into multiple X,y pairs\n",
    "        for i in range(1, len(seq)):\n",
    "            # split into input and output pair as shown in reference code\n",
    "            in_seq, out_seq = seq[:i], seq[i]\n",
    "            # pad input sequence to max_length(consider first element)\n",
    "            in_seq = pad_sequences([in_seq], maxlen=max_length)[0]\n",
    "            # encode output sequence to one hot vectors with vocab size as num of classes (consider first element)\n",
    "            out_seq = to_categorical([out_seq], num_classes=vocab_size)[0]\n",
    "            # store\n",
    "            X1.append(photo)\n",
    "            X2.append(in_seq)\n",
    "            y.append(out_seq)\n",
    "    return array(X1), array(X2), array(y)"
   ]
  },
  {
   "cell_type": "markdown",
   "metadata": {
    "colab_type": "text",
    "id": "xfV2jQUqfTFR"
   },
   "source": [
    "**You need to build a model with the following layers.\n",
    "We have explained the inputs and outputs in the comments in the following cells.**"
   ]
  },
  {
   "cell_type": "code",
   "execution_count": null,
   "metadata": {
    "colab": {},
    "colab_type": "code",
    "id": "SInn0RSse-1m"
   },
   "outputs": [],
   "source": [
    "from IPython.display import Image\n",
    "Image(\"gdrive/My Drive/model.png\")"
   ]
  },
  {
   "cell_type": "code",
   "execution_count": 1,
   "metadata": {
    "colab": {},
    "colab_type": "code",
    "id": "eudXF9uCgMdZ"
   },
   "outputs": [
    {
     "name": "stderr",
     "output_type": "stream",
     "text": [
      "/Users/tvengal/opt/anaconda3/lib/python3.7/site-packages/tensorflow/python/framework/dtypes.py:516: FutureWarning: Passing (type, 1) or '1type' as a synonym of type is deprecated; in a future version of numpy, it will be understood as (type, (1,)) / '(1,)type'.\n",
      "  _np_qint8 = np.dtype([(\"qint8\", np.int8, 1)])\n",
      "/Users/tvengal/opt/anaconda3/lib/python3.7/site-packages/tensorflow/python/framework/dtypes.py:517: FutureWarning: Passing (type, 1) or '1type' as a synonym of type is deprecated; in a future version of numpy, it will be understood as (type, (1,)) / '(1,)type'.\n",
      "  _np_quint8 = np.dtype([(\"quint8\", np.uint8, 1)])\n",
      "/Users/tvengal/opt/anaconda3/lib/python3.7/site-packages/tensorflow/python/framework/dtypes.py:518: FutureWarning: Passing (type, 1) or '1type' as a synonym of type is deprecated; in a future version of numpy, it will be understood as (type, (1,)) / '(1,)type'.\n",
      "  _np_qint16 = np.dtype([(\"qint16\", np.int16, 1)])\n",
      "/Users/tvengal/opt/anaconda3/lib/python3.7/site-packages/tensorflow/python/framework/dtypes.py:519: FutureWarning: Passing (type, 1) or '1type' as a synonym of type is deprecated; in a future version of numpy, it will be understood as (type, (1,)) / '(1,)type'.\n",
      "  _np_quint16 = np.dtype([(\"quint16\", np.uint16, 1)])\n",
      "/Users/tvengal/opt/anaconda3/lib/python3.7/site-packages/tensorflow/python/framework/dtypes.py:520: FutureWarning: Passing (type, 1) or '1type' as a synonym of type is deprecated; in a future version of numpy, it will be understood as (type, (1,)) / '(1,)type'.\n",
      "  _np_qint32 = np.dtype([(\"qint32\", np.int32, 1)])\n",
      "/Users/tvengal/opt/anaconda3/lib/python3.7/site-packages/tensorflow/python/framework/dtypes.py:525: FutureWarning: Passing (type, 1) or '1type' as a synonym of type is deprecated; in a future version of numpy, it will be understood as (type, (1,)) / '(1,)type'.\n",
      "  np_resource = np.dtype([(\"resource\", np.ubyte, 1)])\n",
      "/Users/tvengal/opt/anaconda3/lib/python3.7/site-packages/tensorboard/compat/tensorflow_stub/dtypes.py:541: FutureWarning: Passing (type, 1) or '1type' as a synonym of type is deprecated; in a future version of numpy, it will be understood as (type, (1,)) / '(1,)type'.\n",
      "  _np_qint8 = np.dtype([(\"qint8\", np.int8, 1)])\n",
      "/Users/tvengal/opt/anaconda3/lib/python3.7/site-packages/tensorboard/compat/tensorflow_stub/dtypes.py:542: FutureWarning: Passing (type, 1) or '1type' as a synonym of type is deprecated; in a future version of numpy, it will be understood as (type, (1,)) / '(1,)type'.\n",
      "  _np_quint8 = np.dtype([(\"quint8\", np.uint8, 1)])\n",
      "/Users/tvengal/opt/anaconda3/lib/python3.7/site-packages/tensorboard/compat/tensorflow_stub/dtypes.py:543: FutureWarning: Passing (type, 1) or '1type' as a synonym of type is deprecated; in a future version of numpy, it will be understood as (type, (1,)) / '(1,)type'.\n",
      "  _np_qint16 = np.dtype([(\"qint16\", np.int16, 1)])\n",
      "/Users/tvengal/opt/anaconda3/lib/python3.7/site-packages/tensorboard/compat/tensorflow_stub/dtypes.py:544: FutureWarning: Passing (type, 1) or '1type' as a synonym of type is deprecated; in a future version of numpy, it will be understood as (type, (1,)) / '(1,)type'.\n",
      "  _np_quint16 = np.dtype([(\"quint16\", np.uint16, 1)])\n",
      "/Users/tvengal/opt/anaconda3/lib/python3.7/site-packages/tensorboard/compat/tensorflow_stub/dtypes.py:545: FutureWarning: Passing (type, 1) or '1type' as a synonym of type is deprecated; in a future version of numpy, it will be understood as (type, (1,)) / '(1,)type'.\n",
      "  _np_qint32 = np.dtype([(\"qint32\", np.int32, 1)])\n",
      "/Users/tvengal/opt/anaconda3/lib/python3.7/site-packages/tensorboard/compat/tensorflow_stub/dtypes.py:550: FutureWarning: Passing (type, 1) or '1type' as a synonym of type is deprecated; in a future version of numpy, it will be understood as (type, (1,)) / '(1,)type'.\n",
      "  np_resource = np.dtype([(\"resource\", np.ubyte, 1)])\n"
     ]
    },
    {
     "ename": "NameError",
     "evalue": "name 'load_set' is not defined",
     "output_type": "error",
     "traceback": [
      "\u001b[0;31m---------------------------------------------------------------------------\u001b[0m",
      "\u001b[0;31mNameError\u001b[0m                                 Traceback (most recent call last)",
      "\u001b[0;32m<ipython-input-1-d2cad28381bb>\u001b[0m in \u001b[0;36m<module>\u001b[0;34m\u001b[0m\n\u001b[1;32m     58\u001b[0m \u001b[0;34m\u001b[0m\u001b[0m\n\u001b[1;32m     59\u001b[0m \u001b[0;34m\u001b[0m\u001b[0m\n\u001b[0;32m---> 60\u001b[0;31m \u001b[0mtrain\u001b[0m \u001b[0;34m=\u001b[0m\u001b[0mload_set\u001b[0m\u001b[0;34m(\u001b[0m\u001b[0mfilename\u001b[0m\u001b[0;34m)\u001b[0m\u001b[0;34m\u001b[0m\u001b[0;34m\u001b[0m\u001b[0m\n\u001b[0m\u001b[1;32m     61\u001b[0m \u001b[0mprint\u001b[0m\u001b[0;34m(\u001b[0m\u001b[0;34m'Dataset: %d'\u001b[0m \u001b[0;34m%\u001b[0m \u001b[0mlen\u001b[0m\u001b[0;34m(\u001b[0m\u001b[0mtrain\u001b[0m\u001b[0;34m)\u001b[0m\u001b[0;34m)\u001b[0m\u001b[0;34m\u001b[0m\u001b[0;34m\u001b[0m\u001b[0m\n\u001b[1;32m     62\u001b[0m \u001b[0;31m# load clean descriptions for train\u001b[0m\u001b[0;34m\u001b[0m\u001b[0;34m\u001b[0m\u001b[0;34m\u001b[0m\u001b[0m\n",
      "\u001b[0;31mNameError\u001b[0m: name 'load_set' is not defined"
     ]
    }
   ],
   "source": [
    "# define the captioning model\n",
    "from tensorflow.keras.models import Model\n",
    "from tensorflow.keras.models import load_model\n",
    "\n",
    "def define_model(vocab_size, max_length):\n",
    "  # feature extractor model\n",
    "\t# define an input of shape (4096,)\n",
    "  inputs1 = Input(shape=(4096,))\n",
    "\t# Add a dropout layer of 0.5\n",
    "  fe1 = Dropout(0.5)(inputs1)\n",
    "\t# Add a dense layer of 256 units with relu activation\n",
    "  fe2 = Dense(256, activation='relu')(fe1)\n",
    "\n",
    "\t# sequence model\n",
    "\t# Define input of shape (max_length,)\n",
    "  inputs2 = Input(shape=(max_length,))\n",
    "\t# Define an 256 dimension embedding layer with the vocab_size and parameter mark_zero=True\n",
    "  se1 = Embedding(vocab_size, 256, mask_zero=True)(inputs2)\n",
    "\t# Add a dropout layer of 0.5\n",
    "  se2 = Dropout(0.5)(se1)\n",
    "\t# Add an LSTM layer with 256 units\n",
    "  se3 = LSTM(256)(se2)\n",
    "\n",
    "\t# decoder model\n",
    "\t# Add the outputs of feature extractor model and sequence model\n",
    "  decoder1 = add([fe2, se3])\n",
    "\t# Feed it to a dense layer of 256 units with relu activation\n",
    "  decoder2 = Dense(256, activation='relu')(decoder1)\n",
    "\t# Add a dense layer with no. of units=vocab_size, and softmax activation\n",
    "  outputs = Dense(vocab_size, activation='softmax')(decoder2)\n",
    "\n",
    "\t# tie it together and create a model instance which takes input as [image, seq] and gives output as [word]  \n",
    "  model = Model(inputs=[inputs1, inputs2], outputs=outputs)\n",
    "  \n",
    "\t# compile model with categorical crossentropy loss and adam optimizer\n",
    "  model.compile(loss='categorical_crossentropy', optimizer='adam')\n",
    "\t\n",
    "\t# summarize model\n",
    "  model.summary()\n",
    "  \n",
    "\t# check if this is same as image provided \n",
    "  #plot_model(model, to_file=\"gdrive/My Drive/model.png\", show_shapes=True)\n",
    "  return model\n",
    "\n",
    "# data generator, intended to be used in a call to model.fit()\n",
    "def data_generator(descriptions, photos, tokenizer, max_length, vocab_size):\n",
    "    # loop for ever over images\n",
    "    while 1:\n",
    "        for key, desc_list in descriptions.items():\n",
    "            # retrieve the photo feature\n",
    "            photo = photos[key][0]\n",
    "            # create the sequences\n",
    "            in_img, in_seq, out_word = create_sequences(tokenizer, max_length, desc_list, photo, vocab_size)\n",
    "            yield [in_img, in_seq], out_word\n",
    "\n",
    "# load training dataset (6K)\n",
    "filename = \"gdrive/My Drive/Flickr8k_text/Flickr_8k.trainImages.txt\"\n",
    "\n",
    "\n",
    "train =load_set(filename)\n",
    "print('Dataset: %d' % len(train))\n",
    "# load clean descriptions for train\n",
    "train_descriptions = load_clean_descriptions(\"gdrive/My Drive/descriptions.txt\", train)\n",
    "\n",
    "print('Descriptions: train=%d' % len(train_descriptions))\n",
    "\n",
    "# load photo features for train using pkl file\n",
    "train_features = load_photo_features(\"gdrive/My Drive/features.pkl\", train)\n",
    "\n",
    "print('Photos: train=%d' % len(train_features))\n",
    "\n",
    "# prepare tokenizer for train descriptions\n",
    "tokenizer = create_tokenizer(train_descriptions)\n",
    "# save the tokenizer\n",
    "dump(tokenizer, open(\"gdrive/My Drive/tokenizer.pkl\", 'wb'))\n",
    "\n",
    "vocab_size = len(tokenizer.word_index) + 1\n",
    "print('Vocabulary Size: %d' % vocab_size)\n",
    "# determine the maximum sequence length of train description\n",
    "\n",
    "max_length = mlength(train_descriptions)\n",
    "print('Description Length: %d' % max_length)\n",
    "\n",
    "# define the model\n",
    "model = define_model(vocab_size, max_length)\n",
    "\n",
    "#modelname=\"gdrive/My Drive/model_8.h5\"\n",
    "#model = load_model(modelname)\n",
    "#generator = data_generator(train_descriptions, train_features, tokenizer, max_length, vocab_size)\n",
    "#  # fit for one epoch\n",
    "#i=9\n",
    "#steps = len(train_descriptions)\n",
    "#model.fit_generator(generator, epochs=1, steps_per_epoch=steps, verbose=1)\n",
    "#model.save('model_' + str(i) + '.h5')\n",
    "# train the model, run epochs manually and save after each epoch\n",
    "epochs = 1\n",
    "steps = len(train_descriptions)\n",
    "for i in range(epochs):\n",
    "\tgenerator = data_generator(train_descriptions, train_features, tokenizer, max_length, vocab_size)\n",
    "  # fit for one epoch\n",
    "\tmodel.fit_generator(generator, epochs=1, steps_per_epoch=steps, verbose=1)\n",
    "\t# save model\n",
    "\tmodel.save('model_' + str(i) + '.h5')"
   ]
  },
  {
   "cell_type": "code",
   "execution_count": 12,
   "metadata": {},
   "outputs": [
    {
     "name": "stdout",
     "output_type": "stream",
     "text": [
      "Dataset: 6000\n",
      "Descriptions: train=6000\n",
      "Vocabulary Size: 7579\n",
      "Description Length: 34\n",
      "Model: \"model\"\n",
      "__________________________________________________________________________________________________\n",
      "Layer (type)                    Output Shape         Param #     Connected to                     \n",
      "==================================================================================================\n",
      "input_2 (InputLayer)            [(None, 34)]         0                                            \n",
      "__________________________________________________________________________________________________\n",
      "input_1 (InputLayer)            [(None, 4096)]       0                                            \n",
      "__________________________________________________________________________________________________\n",
      "embedding (Embedding)           (None, 34, 256)      1940224     input_2[0][0]                    \n",
      "__________________________________________________________________________________________________\n",
      "dropout (Dropout)               (None, 4096)         0           input_1[0][0]                    \n",
      "__________________________________________________________________________________________________\n",
      "dropout_1 (Dropout)             (None, 34, 256)      0           embedding[0][0]                  \n",
      "__________________________________________________________________________________________________\n",
      "dense (Dense)                   (None, 256)          1048832     dropout[0][0]                    \n",
      "__________________________________________________________________________________________________\n",
      "lstm (LSTM)                     (None, 256)          525312      dropout_1[0][0]                  \n",
      "__________________________________________________________________________________________________\n",
      "add (Add)                       (None, 256)          0           dense[0][0]                      \n",
      "                                                                 lstm[0][0]                       \n",
      "__________________________________________________________________________________________________\n",
      "dense_1 (Dense)                 (None, 256)          65792       add[0][0]                        \n",
      "__________________________________________________________________________________________________\n",
      "dense_2 (Dense)                 (None, 7579)         1947803     dense_1[0][0]                    \n",
      "==================================================================================================\n",
      "Total params: 5,527,963\n",
      "Trainable params: 5,527,963\n",
      "Non-trainable params: 0\n",
      "__________________________________________________________________________________________________\n"
     ]
    }
   ],
   "source": [
    "# define the captioning model\n",
    "from tensorflow.keras.models import Model\n",
    "from tensorflow.keras.models import load_model\n",
    "\n",
    "\n",
    "def define_model(vocab_size, max_length):\n",
    "  # feature extractor model\n",
    "\t# define an input of shape (4096,)\n",
    "  inputs1 = Input(shape=(4096,))\n",
    "\t# Add a dropout layer of 0.5\n",
    "  fe1 = Dropout(0.5)(inputs1)\n",
    "\t# Add a dense layer of 256 units with relu activation\n",
    "  fe2 = Dense(256, activation='relu')(fe1)\n",
    "\n",
    "\t# sequence model\n",
    "\t# Define input of shape (max_length,)\n",
    "  inputs2 = Input(shape=(max_length,))\n",
    "\t# Define an 256 dimension embedding layer with the vocab_size and parameter mark_zero=True\n",
    "  se1 = Embedding(vocab_size, 256, mask_zero=True)(inputs2)\n",
    "\t# Add a dropout layer of 0.5\n",
    "  se2 = Dropout(0.5)(se1)\n",
    "\t# Add an LSTM layer with 256 units\n",
    "  se3 = LSTM(256)(se2)\n",
    "\n",
    "\t# decoder model\n",
    "\t# Add the outputs of feature extractor model and sequence model\n",
    "  decoder1 = add([fe2, se3])\n",
    "\t# Feed it to a dense layer of 256 units with relu activation\n",
    "  decoder2 = Dense(256, activation='relu')(decoder1)\n",
    "\t# Add a dense layer with no. of units=vocab_size, and softmax activation\n",
    "  outputs = Dense(vocab_size, activation='softmax')(decoder2)\n",
    "\n",
    "\t# tie it together and create a model instance which takes input as [image, seq] and gives output as [word]  \n",
    "  model = Model(inputs=[inputs1, inputs2], outputs=outputs)\n",
    "  \n",
    "\t# compile model with categorical crossentropy loss and adam optimizer\n",
    "  model.compile(loss='categorical_crossentropy', optimizer='adam')\n",
    "\t\n",
    "\t# summarize model\n",
    "  model.summary()\n",
    "  \n",
    "\t# check if this is same as image provided \n",
    "  #plot_model(model, to_file=\"gdrive/My Drive/model.png\", show_shapes=True)\n",
    "  return model\n",
    "\n",
    "# load training dataset (6K)\n",
    "filename = \"gdrive/My Drive/Flickr8k_text/Flickr_8k.trainImages.txt\"\n",
    "\n",
    "train =load_set(filename)\n",
    "print('Dataset: %d' % len(train))\n",
    "train_descriptions = load_clean_descriptions(\"gdrive/My Drive/descriptions.txt\", train)\n",
    "print('Descriptions: train=%d' % len(train_descriptions))\n",
    "# prepare tokenizer for train descriptions\n",
    "tokenizer = create_tokenizer(train_descriptions)\n",
    "# save the tokenizer\n",
    "dump(tokenizer, open(\"gdrive/My Drive/tokenizer.pkl\", 'wb'))\n",
    "\n",
    "vocab_size = len(tokenizer.word_index) + 1\n",
    "print('Vocabulary Size: %d' % vocab_size)\n",
    "# determine the maximum sequence length of train description\n",
    "\n",
    "max_length = mlength(train_descriptions)\n",
    "print('Description Length: %d' % max_length)\n",
    "\n",
    "# define the model\n",
    "model = define_model(vocab_size, max_length)"
   ]
  },
  {
   "cell_type": "markdown",
   "metadata": {
    "colab_type": "text",
    "id": "uGFtJRY2Zrr4"
   },
   "source": [
    "# 5. Evaluate Model"
   ]
  },
  {
   "cell_type": "code",
   "execution_count": 15,
   "metadata": {
    "colab": {},
    "colab_type": "code",
    "id": "b7QDlIkuaZCQ"
   },
   "outputs": [
    {
     "name": "stdout",
     "output_type": "stream",
     "text": [
      "Dataset: 6000\n",
      "Descriptions: train=6000\n",
      "Vocabulary Size: 7579\n",
      "Description Length: 34\n",
      "Dataset: 1000\n",
      "Descriptions: test=1000\n",
      "Photos: test=1000\n",
      "BLEU-1: 0.551546\n",
      "BLEU-2: 0.299295\n",
      "BLEU-3: 0.198507\n",
      "BLEU-4: 0.088665\n"
     ]
    }
   ],
   "source": [
    "from numpy import argmax\n",
    "from nltk.translate.bleu_score import corpus_bleu\n",
    "from tensorflow.keras.models import Model\n",
    "from tensorflow.keras.models import load_model\n",
    "import matplotlib.image as mpimg\n",
    "import matplotlib.pyplot as plt\n",
    "\n",
    "# map an integer to a word\n",
    "def word_for_id(integer, tokenizer):\n",
    "\tfor word, index in tokenizer.word_index.items():\n",
    "\t\tif index == integer:\n",
    "\t\t\treturn word\n",
    "\treturn None\n",
    "\n",
    "# generate a description for an image\n",
    "def generate_desc(model, tokenizer, photo, max_length):\n",
    "\t# seed the generation process\n",
    "\tin_text = 'startseq'\n",
    "\t# iterate over the whole length of the sequence\n",
    "\tfor i in range(max_length):\n",
    "\t\t# integer encode input sequence using texts_to_sequences (consider first element)\n",
    "\t\tsequence = tokenizer.texts_to_sequences([in_text])[0]\n",
    "\t\t# pad sequence for maxlength\n",
    "\t\tsequence = pad_sequences([sequence], maxlen=max_length)\n",
    "\t\t# predict next word using both photo and sequence\n",
    "\t\tyhat = model.predict([photo, sequence], verbose=0)\n",
    "\t\t# convert probability to integer\n",
    "\t\tyhat = argmax(yhat)\n",
    "\t\t# map integer to word\n",
    "\t\tword = word_for_id(yhat, tokenizer)\n",
    "\t\t# stop if we cannot map the word\n",
    "\t\tif word is None:\n",
    "\t\t\tbreak\n",
    "\t\t# append as input for generating the next word\n",
    "\t\tin_text += ' ' + word\n",
    "\t\t# stop if we predict the end of the sequence\n",
    "\t\tif word == 'endseq':\n",
    "\t\t\tbreak\n",
    "\treturn in_text\n",
    "\n",
    "# evaluate the skill of the model\n",
    "def evaluate_model(model, descriptions, photos, tokenizer, max_length):\n",
    "\t# assign empty lists\n",
    "\tactual, predicted = list(), list()\n",
    "\t# step over the whole set\n",
    "\tfor key, desc_list in descriptions.items():\n",
    "\t\t# generate description\n",
    "\t\tyhat =  generate_desc(model, tokenizer, photos[key], max_length)\n",
    "\t\t# store actual and predicted\n",
    "\t\treferences = [d.split() for d in desc_list]\n",
    "\t\tactual.append(references)\n",
    "\t\tpredicted.append(yhat.split())\n",
    "\t# calculate BLEU score\n",
    "\tprint('BLEU-1: %f' % corpus_bleu(actual, predicted, weights=(1.0, 0, 0, 0)))\n",
    "\tprint('BLEU-2: %f' % corpus_bleu(actual, predicted, weights=(0.5, 0.5, 0, 0)))\n",
    "\tprint('BLEU-3: %f' % corpus_bleu(actual, predicted, weights=(0.3, 0.3, 0.3, 0)))\n",
    "\tprint('BLEU-4: %f' % corpus_bleu(actual, predicted, weights=(0.25, 0.25, 0.25, 0.25)))\n",
    "#evaluate_model(model, test_descriptions, test_features, tokenizer, max_length)\n",
    "# prepare tokenizer on train set\n",
    "\n",
    "# load training dataset (6K)\n",
    "filename = \"gdrive/My Drive/Flickr8k_text/Flickr_8k.trainImages.txt\"\n",
    "\n",
    "train = load_set(filename)\n",
    "print('Dataset: %d' % len(train))\n",
    "# load clean descriptions for train\n",
    "train_descriptions = load_clean_descriptions(\"gdrive/My Drive/descriptions.txt\", train)\n",
    "\n",
    "print('Descriptions: train=%d' % len(train_descriptions))\n",
    "# prepare tokenizer for train descriptions\n",
    "tokenizer = create_tokenizer(train_descriptions)\n",
    "vocab_size = len(tokenizer.word_index) + 1\n",
    "print('Vocabulary Size: %d' % vocab_size)\n",
    "# determine the maximum sequence length\n",
    "max_length =  max(len(d.split()) for d in (to_lines(train_descriptions)))\n",
    "print('Description Length: %d' % max_length)\n",
    "\n",
    "# prepare test set\n",
    "\n",
    "# load test set\n",
    "filename = \"gdrive/My Drive/Flickr8k_text/Flickr_8k.testImages.txt\"\n",
    "\n",
    "test = load_set(filename)\n",
    "print('Dataset: %d' % len(test))\n",
    "# load clean descriptions for test\n",
    "test_descriptions = load_clean_descriptions(\"gdrive/My Drive/descriptions.txt\", test)\n",
    "\n",
    "print('Descriptions: test=%d' % len(test_descriptions))\n",
    "# load photo features for test \n",
    "test_features = load_photo_features(\"gdrive/My Drive/features.pkl\", test)\n",
    "\n",
    "print('Photos: test=%d' % len(test_features))\n",
    "\n",
    "# load the model\n",
    "filename=\"gdrive/My Drive/model_9.h5\"\n",
    "\n",
    "model = load_model(filename)\n",
    "# evaluate model\n",
    "evaluate_model(model, test_descriptions, test_features, tokenizer, max_length)\n"
   ]
  },
  {
   "cell_type": "markdown",
   "metadata": {
    "colab_type": "text",
    "id": "Xb_AiI4DBRdT"
   },
   "source": [
    "# 6. Generate new captions "
   ]
  },
  {
   "cell_type": "code",
   "execution_count": 15,
   "metadata": {
    "colab": {},
    "colab_type": "code",
    "id": "gIwohCZEelT0",
    "scrolled": true
   },
   "outputs": [
    {
     "name": "stdout",
     "output_type": "stream",
     "text": [
      "Description of Photo: young boy in red shirt is running through the grass \n"
     ]
    },
    {
     "data": {
      "image/png": "[encoded data removed]",
      "text/plain": [
       "<Figure size 432x288 with 1 Axes>"
      ]
     },
     "metadata": {
      "needs_background": "light"
     },
     "output_type": "display_data"
    }
   ],
   "source": [
    "# extract features from each image in the directory\n",
    "from IPython.display import display\n",
    "from PIL import Image\n",
    "from tensorflow.keras.models import Model\n",
    "from tensorflow.keras.models import load_model\n",
    "from numpy import argmax\n",
    "from numpy import array\n",
    "from pickle import load\n",
    "from tensorflow.python.keras.applications.vgg16 import VGG16\n",
    "from tensorflow.python.keras.preprocessing.image import load_img\n",
    "from tensorflow.python.keras.preprocessing.image import img_to_array\n",
    "from tensorflow.python.keras.applications.vgg16 import preprocess_input\n",
    "from tensorflow.python.keras.models import Model\n",
    "from tensorflow.python.keras.layers import Input\n",
    "import matplotlib.image as mpimg\n",
    "import matplotlib.pyplot as plt\n",
    "\n",
    "def extract_features(filename):\n",
    "\t# load the VGG16 model\n",
    "\tmodel = VGG16()\n",
    "\t# re-structure the model by removing the last layer\n",
    "\t#####\n",
    "\tmodel._layers.pop()\n",
    "\tmodel = Model(inputs=model.inputs, outputs=model.layers[-1].output)\n",
    "\t# load the image\n",
    "\timage = load_img(filename, target_size=(224, 224))\n",
    "\t# convert the image pixels to a numpy array\n",
    "\timage = img_to_array(image)\n",
    "\t# reshape data for the model\n",
    "\timage = image.reshape((1, image.shape[0], image.shape[1], image.shape[2]))\n",
    "\t# preprocess the image for the VGG model\n",
    "\timage = preprocess_input(image)\n",
    "\t# get features (output of the model for the image)\n",
    "\tfeature = model.predict(image, verbose=0)\n",
    "\t#del model\n",
    "\treturn feature\n",
    "\n",
    "# map an integer to a word\n",
    "def word_for_id(integer, tokenizer):\n",
    "\tfor word, index in tokenizer.word_index.items():\n",
    "\t\tif index == integer:\n",
    "\t\t\treturn word\n",
    "\treturn None\n",
    "\n",
    "# generate a description for an image\n",
    "def generate_desc(model, tokenizer, photo, max_length):\n",
    "\t# seed the generation process\n",
    "\tin_text = 'startseq'\n",
    "\t# iterate over the whole length of the sequence\n",
    "\tfor i in range(max_length):\n",
    "\t\t# integer encode input sequence using texts_to_sequences (consider first element)\n",
    "\t\tsequence = tokenizer.texts_to_sequences([in_text])[0]\n",
    "\t\t# pad sequence for maxlength\n",
    "\t\tsequence = pad_sequences([sequence], maxlen=max_length)\n",
    "\t\t# predict next word using both photo and sequence\n",
    "\t\tyhat = model.predict([photo, sequence], verbose=0)\n",
    "\t\t# convert probability to integer\n",
    "\t\tyhat = argmax(yhat)\n",
    "\t\t# map integer to word\n",
    "\t\tword = word_for_id(yhat, tokenizer)\n",
    "\t\t# stop if we cannot map the word\n",
    "\t\tif word is None:\n",
    "\t\t\tbreak\n",
    "\t\t# append as input for generating the next word\n",
    "\t\tin_text += ' ' + word\n",
    "\t\t# stop if we predict the end of the sequence\n",
    "\t\tif word == 'endseq':\n",
    "\t\t\tbreak\n",
    "\treturn in_text\n",
    "\n",
    "# load the tokenizer\n",
    "tokenizer = load(open(\"gdrive/My Drive/tokenizer.pkl\", 'rb'))\n",
    "\n",
    "# pre-define the max sequence length (from training)\n",
    "max_length = 34\n",
    "# load the model\n",
    "model = load_model(\"gdrive/My Drive/model_9.h5\")\n",
    "\n",
    "# load and prepare your own image to generate the caption\n",
    "fname=\"gdrive/My Drive/imgg.jpg\"\n",
    "\n",
    "photo = extract_features(fname)   \n",
    "# generate description\n",
    "description = generate_desc(model, tokenizer, photo, max_length)\n",
    "# provide your image file name \n",
    "#Image(filename=fname) \n",
    "print(\"Description of Photo:\"+ description[8:-6])\n",
    "img=mpimg.imread(fname)\n",
    "imgplot = plt.imshow(img)"
   ]
  },
  {
   "cell_type": "code",
   "execution_count": null,
   "metadata": {},
   "outputs": [],
   "source": []
  }
 ],
 "metadata": {
  "accelerator": "GPU",
  "colab": {
   "collapsed_sections": [],
   "name": "Copy of Assignment_2_BITS_DL_1.ipynb",
   "provenance": []
  },
  "kernelspec": {
   "display_name": "Python 3",
   "language": "python",
   "name": "python3"
  },
  "language_info": {
   "codemirror_mode": {
    "name": "ipython",
    "version": 3
   },
   "file_extension": ".py",
   "mimetype": "text/x-python",
   "name": "python",
   "nbconvert_exporter": "python",
   "pygments_lexer": "ipython3",
   "version": "3.7.6"
  }
 },
 "nbformat": 4,
 "nbformat_minor": 4
}
