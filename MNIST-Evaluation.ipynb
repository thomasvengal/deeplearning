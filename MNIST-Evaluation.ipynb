{
 "cells": [
  {
   "cell_type": "markdown",
   "metadata": {
    "colab_type": "text",
    "id": "5QNH2cwvdFJL"
   },
   "source": [
    "#Problem Statement:\n",
    "\n",
    "Titles of Code Blocks to be shown in Notebook :\n",
    "1. Import required libraries and the dataset\n",
    "2. Visualise a sample of dataset\n",
    "3. Data preprocessing\n",
    "4. Sequential Model Building with Activation for each layer\n",
    "5. Compile with categorical CE loss and metric accuracy\n",
    "6. Train Model with cross validation, with total time taken shown for 20 epochs\n",
    "7. Visualise Loss and Accuracy history\n",
    "8. Show Confusion Matrix for validation dataset\n",
    "\n",
    "Dataset: MNIST database of handwritten digits https://www.tensorflow.org/datasets/catalog/overview"
   ]
  },
  {
   "cell_type": "markdown",
   "metadata": {},
   "source": [
    "#Hyperparameter Experiments :\n",
    "1. Network Depth : \n",
    "1. 1 Hidden Layer of 64 units\n",
    "2. 3 Hidden Layer of 64-64-32 units\n",
    "2. Regularisations : \n",
    "1. Dropout of ratio 0.25\n",
    "2. Dropout of ratio 0.25 with L2 regulariser with factor 1e-04\n",
    "3. Activations : \n",
    "1. ReLU for every hidden layer\n",
    "2. Sigmoid for every hidden layer (softmax for final layer)\n",
    "4. Batch Size : \n",
    "1. 64\n",
    "2. 256\n",
    "5. Optimisers : \n",
    "1. Adam with lr 1e-03\n",
    "2. SGD with lr 1e-02 and momentum 0.95\n",
    "Summarise the results mentioning which of the above combinations gives highest\n",
    "accuracy and which one the lowest, providing your understanding behind them. Submit\n",
    "the ipynb file with corresponding outputs shown (preferred). If py file is being submitted,\n",
    "submit a separate report as pdf showing the outputs"
   ]
  },
  {
   "cell_type": "markdown",
   "metadata": {
    "colab_type": "text",
    "id": "RVhEf_JRkn5I"
   },
   "source": [
    "## 1) Import required libraries and the dataset"
   ]
  },
  {
   "cell_type": "code",
   "execution_count": 1,
   "metadata": {
    "colab": {
     "base_uri": "https://localhost:8080/",
     "height": 114
    },
    "colab_type": "code",
    "executionInfo": {
     "elapsed": 8560,
     "status": "ok",
     "timestamp": 1583684779145,
     "user": {
      "displayName": "Thomas Vengal",
      "photoUrl": "https://lh3.googleusercontent.com/a-/AOh14GgLqy0JWqSc2oKXt4ovPddZiHKobUaT5VXf0oS2=s64",
      "userId": "02683957579488624190"
     },
     "user_tz": -330
    },
    "id": "sQ8Kqkf_kn5L",
    "outputId": "5c4f6796-ec9a-4454-8a2d-661988980665"
   },
   "outputs": [
    {
     "name": "stderr",
     "output_type": "stream",
     "text": [
      "Using TensorFlow backend.\n"
     ]
    },
    {
     "data": {
      "text/html": [
       "<p style=\"color: red;\">\n",
       "The default version of TensorFlow in Colab will soon switch to TensorFlow 2.x.<br>\n",
       "We recommend you <a href=\"https://www.tensorflow.org/guide/migrate\" target=\"_blank\">upgrade</a> now \n",
       "or ensure your notebook will continue to use TensorFlow 1.x via the <code>%tensorflow_version 1.x</code> magic:\n",
       "<a href=\"https://colab.research.google.com/notebooks/tensorflow_version.ipynb\" target=\"_blank\">more info</a>.</p>\n"
      ],
      "text/plain": [
       "<IPython.core.display.HTML object>"
      ]
     },
     "metadata": {
      "tags": []
     },
     "output_type": "display_data"
    },
    {
     "name": "stdout",
     "output_type": "stream",
     "text": [
      "Downloading data from https://storage.googleapis.com/tensorflow/tf-keras-datasets/mnist.npz\n",
      "11493376/11490434 [==============================] - 0s 0us/step\n"
     ]
    }
   ],
   "source": [
    "import keras\n",
    "import tensorflow as tf\n",
    "import seaborn as sns\n",
    "tf.enable_eager_execution()\n",
    "from tensorflow.python.keras import regularizers\n",
    "from keras.layers.core import Dropout\n",
    "from keras import regularizers\n",
    "\n",
    "from tensorflow.python.keras import models\n",
    "from tensorflow.python.keras import layers\n",
    "\n",
    "import random\n",
    "import numpy as np\n",
    "import pandas as pd\n",
    "\n",
    "hyper_param_batch_size = 64\n",
    "#hyper_param_batch_size = 256\n",
    "\n",
    "\n",
    "random.seed(21)         # Initialize the random number generator.\n",
    "np.random.seed(21)      # With the seed reset, the same set of numbers will appear every time. \n",
    "tf.set_random_seed(21)  # sets the graph-level random seed\n",
    "\n",
    "# Import mnsit handwriting dataset.\n",
    "mnist = tf.keras.datasets.mnist\n",
    "\n",
    "(Xtrain, Ytrain) , (Xtest, Ytest) = mnist.load_data()"
   ]
  },
  {
   "cell_type": "markdown",
   "metadata": {
    "colab_type": "text",
    "id": "44kQOlcimGZg"
   },
   "source": [
    "# 2. Visualise a sample of dataset\n"
   ]
  },
  {
   "cell_type": "code",
   "execution_count": 2,
   "metadata": {
    "colab": {
     "base_uri": "https://localhost:8080/",
     "height": 353
    },
    "colab_type": "code",
    "executionInfo": {
     "elapsed": 8973,
     "status": "ok",
     "timestamp": 1583684779572,
     "user": {
      "displayName": "Thomas Vengal",
      "photoUrl": "https://lh3.googleusercontent.com/a-/AOh14GgLqy0JWqSc2oKXt4ovPddZiHKobUaT5VXf0oS2=s64",
      "userId": "02683957579488624190"
     },
     "user_tz": -330
    },
    "id": "gCh3VBNJmJB5",
    "outputId": "23ee2131-9d15-4dfa-948e-e5f1bf3d1b3c"
   },
   "outputs": [
    {
     "name": "stdout",
     "output_type": "stream",
     "text": [
      "Size of the datasets:\n",
      "(60000, 28, 28)\n",
      "(10000, 28, 28)\n",
      "(60000,)\n",
      "(10000,)\n",
      "Printing sample data:\n"
     ]
    },
    {
     "data": {
      "image/png": "[encoded data removed]",
      "text/plain": [
       "<Figure size 720x720 with 10 Axes>"
      ]
     },
     "metadata": {
      "tags": []
     },
     "output_type": "display_data"
    }
   ],
   "source": [
    "# size of the datsets\n",
    "print(\"Size of the datasets:\")\n",
    "print(Xtrain.shape)\n",
    "print(Xtest.shape)\n",
    "print(Ytrain.shape)\n",
    "print(Ytest.shape)\n",
    "\n",
    "\n",
    "# print a sample data\n",
    "print(\"Printing sample data:\")\n",
    "from matplotlib import pyplot as plt\n",
    "%matplotlib inline\n",
    "\n",
    "plt.figure(figsize=(10,10))\n",
    "for i in range(10):\n",
    "    plt.subplot(5,5,i+1)\n",
    "    plt.xticks([])\n",
    "    plt.yticks([])\n",
    "    plt.grid(False)\n",
    "    plt.imshow(Xtrain[i], cmap='gray')\n",
    "    plt.xlabel(Ytrain[i])\n",
    "\n"
   ]
  },
  {
   "cell_type": "markdown",
   "metadata": {
    "colab_type": "text",
    "id": "afpbS16dmfph"
   },
   "source": [
    "# 3. Data preprocessing\n"
   ]
  },
  {
   "cell_type": "code",
   "execution_count": 3,
   "metadata": {
    "colab": {
     "base_uri": "https://localhost:8080/",
     "height": 354
    },
    "colab_type": "code",
    "executionInfo": {
     "elapsed": 9340,
     "status": "ok",
     "timestamp": 1583684779949,
     "user": {
      "displayName": "Thomas Vengal",
      "photoUrl": "https://lh3.googleusercontent.com/a-/AOh14GgLqy0JWqSc2oKXt4ovPddZiHKobUaT5VXf0oS2=s64",
      "userId": "02683957579488624190"
     },
     "user_tz": -330
    },
    "id": "72veTuCFkn50",
    "outputId": "910a66d7-95f8-4f3e-bd73-322b1b86a559"
   },
   "outputs": [
    {
     "name": "stdout",
     "output_type": "stream",
     "text": [
      "(60000, 784)\n",
      "(10000, 784)\n",
      "(60000, 10)\n",
      "(10000, 10)\n",
      "Ytrain:  [0. 0. 0. 0. 0. 1. 0. 0. 0. 0.]\n"
     ]
    },
    {
     "data": {
      "image/png": "[encoded data removed]",
      "text/plain": [
       "<Figure size 432x288 with 1 Axes>"
      ]
     },
     "metadata": {
      "tags": []
     },
     "output_type": "display_data"
    }
   ],
   "source": [
    "# Normalize the data\n",
    "# 60000 input images are in the train set.\n",
    "# 10000 input images are in the test set.\n",
    "\n",
    "Xtrain = Xtrain.reshape((60000, 28*28))    # reshape the input set to size 28*28. \n",
    "Xtrain = Xtrain.astype('float32')/255      # normalize to grayscale [0 to 1]; set datatype as float32\n",
    "\n",
    "Xtest = Xtest.reshape((10000, 28*28))      # reshape the input set to size 28*28. \n",
    "Xtest = Xtest.astype('float32')/255        # normalize to grayscale [0 to 1]; set datatype as float32\n",
    "\n",
    "Ytrain = tf.keras.utils.to_categorical(Ytrain)\n",
    "Ytest = tf.keras.utils.to_categorical(Ytest)\n",
    "\n",
    "print(Xtrain.shape)\n",
    "print(Xtest.shape)\n",
    "print(Ytrain.shape)\n",
    "print(Ytest.shape)\n",
    "\n",
    "# print an input data\n",
    "\n",
    "plt.imshow(Xtrain[1].reshape(28*28,1), cmap='gist_gray',aspect=0.005)\n",
    "print('Ytrain: ', Ytrain[0])"
   ]
  },
  {
   "cell_type": "markdown",
   "metadata": {
    "colab_type": "text",
    "id": "15jhuzQxkn5V"
   },
   "source": [
    "# 4. Sequential Model Building with Activation for each layer"
   ]
  },
  {
   "cell_type": "code",
   "execution_count": 4,
   "metadata": {
    "colab": {
     "base_uri": "https://localhost:8080/",
     "height": 255
    },
    "colab_type": "code",
    "executionInfo": {
     "elapsed": 9735,
     "status": "ok",
     "timestamp": 1583684780357,
     "user": {
      "displayName": "Thomas Vengal",
      "photoUrl": "https://lh3.googleusercontent.com/a-/AOh14GgLqy0JWqSc2oKXt4ovPddZiHKobUaT5VXf0oS2=s64",
      "userId": "02683957579488624190"
     },
     "user_tz": -330
    },
    "id": "SWpgDav9kn5c",
    "outputId": "380368a1-2841-41f5-e477-3d571eec37fb"
   },
   "outputs": [
    {
     "name": "stdout",
     "output_type": "stream",
     "text": [
      "Model: \"sequential\"\n",
      "_________________________________________________________________\n",
      "Layer (type)                 Output Shape              Param #   \n",
      "=================================================================\n",
      "dense (Dense)                (None, 64)                50240     \n",
      "_________________________________________________________________\n",
      "dropout (Dropout)            (None, 64)                0         \n",
      "_________________________________________________________________\n",
      "dense_1 (Dense)              (None, 10)                650       \n",
      "=================================================================\n",
      "Total params: 50,890\n",
      "Trainable params: 50,890\n",
      "Non-trainable params: 0\n",
      "_________________________________________________________________\n"
     ]
    }
   ],
   "source": [
    "dnnModel = models.Sequential()\n",
    "\n",
    "# specify the input size for in the hidden layer 1.\n",
    "dnnModel.add(layers.Dense(64, activation='relu', input_shape= (28*28,)))\n",
    "#Dropout to hidden layer 1\n",
    "dnnModel.add(layers.Dropout(0.25))\n",
    "\n",
    "# 1-hidden layer with L2 regularizer for 64 units.\n",
    "#dnnModel.add(layers.Dense(64, activation='relu', input_shape= (28*28,),kernel_regularizer=regularizers.l2(0.0001)))\n",
    "\n",
    "# output layer\n",
    "dnnModel.add(layers.Dense(10, activation='softmax'))\n",
    "\n",
    "dnnModel.summary()"
   ]
  },
  {
   "cell_type": "markdown",
   "metadata": {
    "colab_type": "text",
    "id": "Hu3TEI0Rkn6D"
   },
   "source": [
    "# 5. Compile with categorical CE loss and metric accuracy"
   ]
  },
  {
   "cell_type": "code",
   "execution_count": null,
   "metadata": {
    "colab": {},
    "colab_type": "code",
    "id": "gWjTi3tikn5_"
   },
   "outputs": [],
   "source": [
    "# Configure  the model for training, by using appropriate optimizers \n",
    "# Refer https://keras.io/optimizers/\n",
    "# User optimizers: adam,  sgd\n",
    "# loss:  objective that the model will try to minimize. \n",
    "# Available loss: categorical_crossentropy, binary_crossentropy, mean_squared_error\n",
    "# metrics: List of metrics to be evaluated by the model during training and testing. \n",
    "from tensorflow.python.keras.optimizers import adam\n",
    "#from tensorflow.python.keras.optimizers import sgd\n",
    "opt = adam(lr=0.001) #adam with lr of 1e-03\n",
    "#opt = sgd(lr=0.01, momentum =0.95, nesterov=False) #sgd with lr of 1e-02 and momemtum 0.95\n",
    "dnnModel.compile(optimizer = opt,\n",
    "                 loss = 'categorical_crossentropy', \n",
    "                 metrics=['accuracy'] )"
   ]
  },
  {
   "cell_type": "markdown",
   "metadata": {
    "colab_type": "text",
    "id": "PHNufdPmnfpc"
   },
   "source": [
    "# 6. Train Model with cross validation, with total time taken shown for 20 epochs\n"
   ]
  },
  {
   "cell_type": "code",
   "execution_count": 6,
   "metadata": {
    "colab": {
     "base_uri": "https://localhost:8080/",
     "height": 785
    },
    "colab_type": "code",
    "executionInfo": {
     "elapsed": 62184,
     "status": "ok",
     "timestamp": 1583684832819,
     "user": {
      "displayName": "Thomas Vengal",
      "photoUrl": "https://lh3.googleusercontent.com/a-/AOh14GgLqy0JWqSc2oKXt4ovPddZiHKobUaT5VXf0oS2=s64",
      "userId": "02683957579488624190"
     },
     "user_tz": -330
    },
    "id": "LR7Yy6hdkn6F",
    "outputId": "1d0c2dab-6271-41ed-b2e1-70415eced816"
   },
   "outputs": [
    {
     "name": "stdout",
     "output_type": "stream",
     "text": [
      "WARNING:tensorflow:From /usr/local/lib/python3.6/dist-packages/tensorflow_core/python/ops/math_grad.py:1424: where (from tensorflow.python.ops.array_ops) is deprecated and will be removed in a future version.\n",
      "Instructions for updating:\n",
      "Use tf.where in 2.0, which has the same broadcast rule as np.where\n",
      "Train on 60000 samples\n",
      "Epoch 1/20\n",
      "60000/60000 [==============================] - 3s 54us/sample - loss: 0.4345 - acc: 0.8731\n",
      "Epoch 2/20\n",
      "60000/60000 [==============================] - 3s 49us/sample - loss: 0.2321 - acc: 0.9328\n",
      "Epoch 3/20\n",
      "60000/60000 [==============================] - 3s 45us/sample - loss: 0.1873 - acc: 0.9446\n",
      "Epoch 4/20\n",
      "60000/60000 [==============================] - 3s 46us/sample - loss: 0.1645 - acc: 0.9520\n",
      "Epoch 5/20\n",
      "60000/60000 [==============================] - 3s 43us/sample - loss: 0.1464 - acc: 0.9564\n",
      "Epoch 6/20\n",
      "60000/60000 [==============================] - 3s 42us/sample - loss: 0.1343 - acc: 0.9593\n",
      "Epoch 7/20\n",
      "60000/60000 [==============================] - 3s 43us/sample - loss: 0.1223 - acc: 0.9629\n",
      "Epoch 8/20\n",
      "60000/60000 [==============================] - 2s 41us/sample - loss: 0.1174 - acc: 0.9637\n",
      "Epoch 9/20\n",
      "60000/60000 [==============================] - 3s 42us/sample - loss: 0.1060 - acc: 0.9673\n",
      "Epoch 10/20\n",
      "60000/60000 [==============================] - 3s 45us/sample - loss: 0.1052 - acc: 0.9668\n",
      "Epoch 11/20\n",
      "60000/60000 [==============================] - 3s 42us/sample - loss: 0.0995 - acc: 0.9688\n",
      "Epoch 12/20\n",
      "60000/60000 [==============================] - 3s 42us/sample - loss: 0.0953 - acc: 0.9700\n",
      "Epoch 13/20\n",
      "60000/60000 [==============================] - 2s 41us/sample - loss: 0.0879 - acc: 0.9712\n",
      "Epoch 14/20\n",
      "60000/60000 [==============================] - 2s 41us/sample - loss: 0.0880 - acc: 0.9717\n",
      "Epoch 15/20\n",
      "60000/60000 [==============================] - 2s 41us/sample - loss: 0.0853 - acc: 0.9722\n",
      "Epoch 16/20\n",
      "60000/60000 [==============================] - 2s 41us/sample - loss: 0.0825 - acc: 0.9733\n",
      "Epoch 17/20\n",
      "60000/60000 [==============================] - 2s 42us/sample - loss: 0.0808 - acc: 0.9733\n",
      "Epoch 18/20\n",
      "60000/60000 [==============================] - 3s 42us/sample - loss: 0.0777 - acc: 0.9749\n",
      "Epoch 19/20\n",
      "60000/60000 [==============================] - 3s 42us/sample - loss: 0.0779 - acc: 0.9747\n",
      "Epoch 20/20\n",
      "60000/60000 [==============================] - 2s 41us/sample - loss: 0.0750 - acc: 0.9751\n"
     ]
    }
   ],
   "source": [
    "# train the model\n",
    "\n",
    "history = dnnModel.fit(Xtrain, Ytrain, epochs=20, batch_size=hyper_param_batch_size)"
   ]
  },
  {
   "cell_type": "markdown",
   "metadata": {
    "colab_type": "text",
    "id": "FmKEu97Tkn6K"
   },
   "source": [
    "# 7. Visualise Loss and Accuracy history"
   ]
  },
  {
   "cell_type": "code",
   "execution_count": 7,
   "metadata": {
    "colab": {
     "base_uri": "https://localhost:8080/",
     "height": 34
    },
    "colab_type": "code",
    "executionInfo": {
     "elapsed": 62175,
     "status": "ok",
     "timestamp": 1583684832819,
     "user": {
      "displayName": "Thomas Vengal",
      "photoUrl": "https://lh3.googleusercontent.com/a-/AOh14GgLqy0JWqSc2oKXt4ovPddZiHKobUaT5VXf0oS2=s64",
      "userId": "02683957579488624190"
     },
     "user_tz": -330
    },
    "id": "koSYlrdTkn6L",
    "outputId": "ec2fd79e-89c0-412c-f160-00050f2c4b28"
   },
   "outputs": [
    {
     "name": "stdout",
     "output_type": "stream",
     "text": [
      "dict_keys(['loss', 'acc'])\n"
     ]
    }
   ],
   "source": [
    "print(history.history.keys())"
   ]
  },
  {
   "cell_type": "code",
   "execution_count": 8,
   "metadata": {
    "colab": {
     "base_uri": "https://localhost:8080/",
     "height": 295
    },
    "colab_type": "code",
    "executionInfo": {
     "elapsed": 62730,
     "status": "ok",
     "timestamp": 1583684833388,
     "user": {
      "displayName": "Thomas Vengal",
      "photoUrl": "https://lh3.googleusercontent.com/a-/AOh14GgLqy0JWqSc2oKXt4ovPddZiHKobUaT5VXf0oS2=s64",
      "userId": "02683957579488624190"
     },
     "user_tz": -330
    },
    "id": "sHoDwcPIkn6Q",
    "outputId": "9da622d2-6956-453e-9ad9-8e0ef1d9d6c0"
   },
   "outputs": [
    {
     "data": {
      "image/png": "[encoded data removed]",
      "text/plain": [
       "<Figure size 432x288 with 1 Axes>"
      ]
     },
     "metadata": {
      "tags": []
     },
     "output_type": "display_data"
    }
   ],
   "source": [
    "# summarize history for accuracy\n",
    "plt.plot(history.history['acc'])\n",
    "plt.title('model accuracy')\n",
    "plt.ylabel('accuracy')\n",
    "plt.xlabel('epoch')\n",
    "plt.legend(['test'], loc='upper left')\n",
    "plt.show()"
   ]
  },
  {
   "cell_type": "code",
   "execution_count": 9,
   "metadata": {
    "colab": {
     "base_uri": "https://localhost:8080/",
     "height": 295
    },
    "colab_type": "code",
    "executionInfo": {
     "elapsed": 63264,
     "status": "ok",
     "timestamp": 1583684833938,
     "user": {
      "displayName": "Thomas Vengal",
      "photoUrl": "https://lh3.googleusercontent.com/a-/AOh14GgLqy0JWqSc2oKXt4ovPddZiHKobUaT5VXf0oS2=s64",
      "userId": "02683957579488624190"
     },
     "user_tz": -330
    },
    "id": "8y4t9kdOkn6U",
    "outputId": "0847dd59-2ff8-459b-8f23-5eeb8a3d89fa"
   },
   "outputs": [
    {
     "data": {
      "image/png": "[encoded data removed]",
      "text/plain": [
       "<Figure size 432x288 with 1 Axes>"
      ]
     },
     "metadata": {
      "tags": []
     },
     "output_type": "display_data"
    }
   ],
   "source": [
    "# summarize history for loss\n",
    "plt.plot(history.history['loss'])\n",
    "plt.title('model loss')\n",
    "plt.ylabel('loss')\n",
    "plt.xlabel('epoch')\n",
    "plt.legend(['test'], loc='upper left')\n",
    "plt.show()"
   ]
  },
  {
   "cell_type": "code",
   "execution_count": null,
   "metadata": {
    "colab": {},
    "colab_type": "code",
    "id": "t7PCrxwTnseV"
   },
   "outputs": [],
   "source": []
  },
  {
   "cell_type": "markdown",
   "metadata": {
    "colab_type": "text",
    "id": "GmJBtZrtnpnt"
   },
   "source": [
    "# 8. Show Confusion Matrix for validation dataset\n"
   ]
  },
  {
   "cell_type": "code",
   "execution_count": 10,
   "metadata": {
    "colab": {
     "base_uri": "https://localhost:8080/",
     "height": 633
    },
    "colab_type": "code",
    "executionInfo": {
     "elapsed": 64260,
     "status": "ok",
     "timestamp": 1583684834954,
     "user": {
      "displayName": "Thomas Vengal",
      "photoUrl": "https://lh3.googleusercontent.com/a-/AOh14GgLqy0JWqSc2oKXt4ovPddZiHKobUaT5VXf0oS2=s64",
      "userId": "02683957579488624190"
     },
     "user_tz": -330
    },
    "id": "-q6CopkOnq8j",
    "outputId": "a711e675-1a54-401c-d82d-bf5102a89682"
   },
   "outputs": [
    {
     "name": "stdout",
     "output_type": "stream",
     "text": [
      "(10000,)\n",
      "(10000, 10)\n"
     ]
    },
    {
     "data": {
      "image/png": "[encoded data removed]",
      "text/plain": [
       "<Figure size 576x576 with 2 Axes>"
      ]
     },
     "metadata": {
      "tags": []
     },
     "output_type": "display_data"
    }
   ],
   "source": [
    "# Print confusion matrix\n",
    "classes=[0,1,2,3,4,5,6,7,8,9]\n",
    "YPred=dnnModel.predict_classes(Xtest)\n",
    "print(YPred.shape)\n",
    "print(Ytest.shape)\n",
    "conf_mat = tf.math.confusion_matrix(labels=tf.argmax( Ytest, 1 ), predictions=YPred).numpy()\n",
    "\n",
    "conf_mat_norm = np.around(conf_mat.astype('float') / conf_mat.sum(axis=1)[:, np.newaxis], decimals=2)\n",
    " \n",
    "conf_mat_df = pd.DataFrame(conf_mat_norm,\n",
    "                     index = classes, \n",
    "                     columns = classes)\n",
    "\n",
    "\n",
    "figure = plt.figure(figsize=(8, 8))\n",
    "sns.heatmap(conf_mat_df, annot=True,cmap=plt.cm.Blues)\n",
    "plt.tight_layout()\n",
    "plt.ylabel('True label')\n",
    "plt.xlabel('Predicted label')\n",
    "plt.show()"
   ]
  },
  {
   "cell_type": "markdown",
   "metadata": {
    "colab_type": "text",
    "id": "OGZZ2_LadWjk"
   },
   "source": [
    "# RESULTS SUMMARY"
   ]
  },
  {
   "cell_type": "markdown",
   "metadata": {
    "colab_type": "text",
    "id": "0rUkQivGduoo"
   },
   "source": [
    "We ran 32 combinations of 5 hyper parameters (2 each) of tuning: \n",
    "1. Network Depth : \n",
    "a.  1 Hidden Layer of 64 units\n",
    "b.  3 Hidden Layer of 64-64-32 units\n",
    "2. Regularisations : \n",
    "a) Dropout of ratio 0.25\n",
    "b) Dropout of ratio 0.25 with L2 regulariser with factor 1e-04\n",
    "3. Activations : \n",
    "    a) ReLU for every hidden layer\n",
    "    b) Sigmoid for every hidden layer (softmax for final layer)\n",
    "4. Batch Size : \n",
    "    a) 64\n",
    "    b) 256\n",
    "5. Optimisers : \n",
    "    a) Adam with lr 1e-03\n",
    "    b) SGD with lr 1e-02 and momentum 0.95\n",
    "\n",
    "\n",
    "* All the 32 combinations of code is available in the attached zip file.\n",
    "* Summary of all the 32 execution results are included in the excel sheet.\n"
   ]
  },
  {
   "cell_type": "markdown",
   "metadata": {
    "colab_type": "text",
    "id": "xM5JzCfHgFBn"
   },
   "source": [
    "**Best Results**\n",
    "\n",
    "\n",
    "---\n",
    "\n",
    "\n",
    "Loss was 0.0750 and Accuracy 0.9751 were acheived with the following combination\n",
    "\n",
    "*   1 Hidden Layer with 64 Units\n",
    "*   Drop out ratio of 0.25\n",
    "*   ReLu\n",
    "*   Batch Size of 64\n",
    "*   Optimizer Adam with lr 1e-03"
   ]
  },
  {
   "cell_type": "markdown",
   "metadata": {
    "colab_type": "text",
    "id": "WubxJ-jRe51M"
   },
   "source": [
    "**Worst Results**\n",
    "\n",
    "---\n",
    "Loss was 0.5710 and Accuracy 0.8559 were acheived with the following combination\n",
    "*   3 Hidden Layer of 64-64-32 units\n",
    "*   Dropout of 0.25 with L2 Reg 1e-04\n",
    "*   Sigmoid with evey hidden layer (softmax for final layer)\n",
    "*   Batch size of 256\n",
    "*   Optimizer  - SGD with 1e-02 and momentum 0.95\n",
    "\n",
    "\n",
    "\n",
    "\n",
    "\n",
    "\n",
    "\n",
    "\n",
    "\n",
    "\n",
    "\n",
    "\n",
    "\n"
   ]
  },
  {
   "cell_type": "markdown",
   "metadata": {
    "colab_type": "text",
    "id": "SPaYmR629gOv"
   },
   "source": [
    "**Observations based on this experiment**\n",
    "\n",
    "Our observations as mentioned below has led to the best results:  \n",
    "\n",
    "1.   With introduction of additional hidden layers, the accuracy of the model decreases.\n",
    "2.   Relu performs better than sigmoid in all the cases. \n",
    "3.   Adam optimizer has outperformed SGD in all the cases.\n",
    "4.   Basic Dropout performs better than Dropout with L2 Regularization.\n",
    "5.   Increase in batch size reduces accuracy.\n",
    "\n",
    "The worst case results might have been a result of the following reason\n",
    "Dropout removed 25% of units in each layer, but in addition the l2\n",
    "regularizer caused many of the weights to become close to zero , hence many significant paths were lost in regularization with dropout leading to a decrease in accuracy (and increase in loss).\n",
    "\n",
    "\n"
   ]
  }
 ],
 "metadata": {
  "colab": {
   "collapsed_sections": [],
   "name": "Copy of Vengal_v3.ipynb",
   "provenance": [
    {
     "file_id": "1erEtUDfByXMB719_YRnGgBshu17pz_sD",
     "timestamp": 1583684745035
    }
   ]
  },
  "kernelspec": {
   "display_name": "Python 3",
   "language": "python",
   "name": "python3"
  },
  "language_info": {
   "codemirror_mode": {
    "name": "ipython",
    "version": 3
   },
   "file_extension": ".py",
   "mimetype": "text/x-python",
   "name": "python",
   "nbconvert_exporter": "python",
   "pygments_lexer": "ipython3",
   "version": "3.7.6"
  }
 },
 "nbformat": 4,
 "nbformat_minor": 4
}
